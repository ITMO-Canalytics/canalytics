{
 "cells": [
  {
   "cell_type": "code",
   "execution_count": null,
   "id": "d05b8707-4c5d-4ddd-9727-0a2ba07fd03e",
   "metadata": {},
   "outputs": [],
   "source": [
    "# Suez Canal Analysis\n",
    "\n",
    "print(\"YAY!\")"
   ]
  }
 ],
 "metadata": {
  "kernelspec": {
   "display_name": "Python 3 (ipykernel)",
   "language": "python",
   "name": "python3"
  },
  "language_info": {
   "codemirror_mode": {
    "name": "ipython",
    "version": 3
   },
   "file_extension": ".py",
   "mimetype": "text/x-python",
   "name": "python",
   "nbconvert_exporter": "python",
   "pygments_lexer": "ipython3",
   "version": "3.11.6"
  }
 },
 "nbformat": 4,
 "nbformat_minor": 5
}
